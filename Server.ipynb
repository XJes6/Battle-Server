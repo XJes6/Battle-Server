{
 "cells": [
  {
   "cell_type": "code",
   "execution_count": null,
   "metadata": {},
   "outputs": [],
   "source": [
    "import socket \n",
    "import sys\n",
    "import select\n",
    "\n",
    "host = '140.141.225.187' \n",
    "port = 50000 \n",
    "\n",
    "backlog = 5 \n",
    "recvsize = 1024 \n",
    "\n",
    "# server's listener socket\n",
    "server = socket.socket(socket.AF_INET, socket.SOCK_STREAM) \n",
    "\n",
    "# Release listener socket immediately when program exits, \n",
    "# avoid socket.error: [Errno 48] Address already in use\n",
    "server.setsockopt(socket.SOL_SOCKET, socket.SO_REUSEADDR, 1)\n",
    "\n",
    "server.bind((host,port)) \n",
    "\n",
    "print('PassiveHost0 listening on port', port)\n",
    "server.listen(backlog)\n",
    "\n",
    "inputs = [ server ]        # Maintain the list of all sockets/fds from which we may get input\n",
    "accepted = []\n",
    "clients = 0\n",
    "# inputs = [server, sys.stdin]\n",
    "#-----------------------------------------------------------------------------------------------------------------------------"
   ]
  },
  {
   "cell_type": "code",
   "execution_count": null,
   "metadata": {},
   "outputs": [],
   "source": [
    "while inputs:\n",
    "    \n",
    "    print(\"DBG> Waiting for next available input\", file=sys.stderr)\n",
    "    \n",
    "    # Blocking call to select() waiting for I/O channels to be \"ready\"\n",
    "    \n",
    "    readset, writeset, exceptset = select.select(inputs, [], [])\n",
    "    print(\"DBG> select() returned, so there must be some work to do\", file=sys.stderr)\n",
    "    \n",
    "    #iterate over items in the readset\n",
    "    for channel in readset:\n",
    "        if channel is server:\n",
    "            # client is making a connect(), so accept() would not block\n",
    "            \n",
    "            peer, addr = server.accept()\n",
    "            print('Accepted connection from', addr, file=sys.stderr)\n",
    "            inputs.append(peer)\n",
    "        else:\n",
    "            data = channel.recv(recvsize)\n",
    "            if data != b\"\":\n",
    "                print(\"{}: {}\".format(channel.getpeername(), data), file=sys.stderr)\n",
    "                if data == b\"Accept\": #Exit Room\n",
    "                    if channel.getpeername() not in accepted:\n",
    "                        accepted.append(channel.getpeername()[1])\n",
    "                        peer.sendall(\"Acknowledged\")\n",
    "                        clients = clients + 1\n",
    "                    print(accepted)\n",
    "                    print(clients)\n",
    "            else:\n",
    "                print('DBG> Closing', channel.getpeername(), file=sys.stderr)\n",
    "                inputs.remove(channel)\n",
    "                channel.close()\n",
    "                if len(inputs) == 1:\n",
    "                    inputs.pop()\n",
    "                \n",
    "print(\"DBG> No more available channels, terminating loop\", file=sys.stderr)\n",
    "server.close()\n"
   ]
  }
 ],
 "metadata": {
  "kernelspec": {
   "display_name": "Python 3",
   "language": "python",
   "name": "python3"
  },
  "language_info": {
   "codemirror_mode": {
    "name": "ipython",
    "version": 3
   },
   "file_extension": ".py",
   "mimetype": "text/x-python",
   "name": "python",
   "nbconvert_exporter": "python",
   "pygments_lexer": "ipython3",
   "version": "3.6.1"
  }
 },
 "nbformat": 4,
 "nbformat_minor": 2
}
